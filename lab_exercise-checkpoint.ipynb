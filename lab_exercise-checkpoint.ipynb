{
 "cells": [
  {
   "cell_type": "markdown",
   "metadata": {},
   "source": [
    "# Name:Emmanuel Isebor\n",
    "## Mat No: 2012012034\n",
    "### Email:emmanuel.isebor@pau.edu.ng\n",
    "#### Exercise Description: Programming"
   ]
  },
  {
   "cell_type": "markdown",
   "metadata": {},
   "source": [
    "<img src= \"quickmaths.jpg\">"
   ]
  },
  {
   "cell_type": "markdown",
   "metadata": {},
   "source": [
    "<img src= \"Itachi.jpg\">"
   ]
  },
  {
   "cell_type": "markdown",
   "metadata": {},
   "source": [
    "#### Exercise I\n",
    "***A python programme to get the difference between a given number and 17, if the number is greater than 17 return double the absulute difference***\n"
   ]
  },
  {
   "cell_type": "code",
   "execution_count": 6,
   "metadata": {},
   "outputs": [
    {
     "name": "stdout",
     "output_type": "stream",
     "text": [
      "Input given number11\n",
      "6\n"
     ]
    }
   ],
   "source": [
    "j = int(input(\"Input given number\"))\n",
    "k = 17\n",
    "l = j - k\n",
    "\n",
    "if j > k:\n",
    "    m = 2 * l\n",
    "    print(m)\n",
    "if j < k:\n",
    "    y = l * (-1)\n",
    "    print(y)\n"
   ]
  },
  {
   "cell_type": "markdown",
   "metadata": {},
   "source": [
    "## **Exercise II**\n",
    "\n",
    "***A python programme to calculate the sum of three given numbers, if the values are equal, then return thrice the value of their sum***\n"
   ]
  },
  {
   "cell_type": "code",
   "execution_count": 19,
   "metadata": {},
   "outputs": [
    {
     "name": "stdout",
     "output_type": "stream",
     "text": [
      "Enter first number3\n",
      "Enter second number4\n",
      "Enter third number5\n",
      "12\n"
     ]
    }
   ],
   "source": [
    "A = int(input(\"Enter first number\"))\n",
    "B = int(input(\"Enter second number\"))\n",
    "C = int(input(\"Enter third number\"))\n",
    " \n",
    "if A == B == C:\n",
    "    v = A + B + C\n",
    "    q= v*3\n",
    "    print(q)\n",
    "\n",
    "else:\n",
    "    v = A + B + C\n",
    "    print(v)"
   ]
  },
  {
   "cell_type": "markdown",
   "metadata": {},
   "source": [
    "## **Exercise III**\n",
    "\n",
    "***A python programme to return true if the values of two given integers are equal to their sum or difference is 5***"
   ]
  },
  {
   "cell_type": "code",
   "execution_count": 26,
   "metadata": {},
   "outputs": [
    {
     "name": "stdout",
     "output_type": "stream",
     "text": [
      "Enter given integer2\n",
      "Enter given integer3\n",
      "True\n"
     ]
    }
   ],
   "source": [
    "V = float(input(\"Enter given integer\"))\n",
    "K = float(input(\"Enter given integer\"))\n",
    "w = V + K\n",
    "if V == K:\n",
    "    print (\"True\")\n",
    "    \n",
    "if w == 5:\n",
    "   print (\"True\")\n",
    "\n",
    "g = V - K    \n",
    "if g == 5:\n",
    "    print (\"True\")"
   ]
  },
  {
   "cell_type": "code",
   "execution_count": null,
   "metadata": {},
   "outputs": [],
   "source": []
  }
 ],
 "metadata": {
  "kernelspec": {
   "display_name": "Python 3",
   "language": "python",
   "name": "python3"
  },
  "language_info": {
   "codemirror_mode": {
    "name": "ipython",
    "version": 3
   },
   "file_extension": ".py",
   "mimetype": "text/x-python",
   "name": "python",
   "nbconvert_exporter": "python",
   "pygments_lexer": "ipython3",
   "version": "3.8.5"
  }
 },
 "nbformat": 4,
 "nbformat_minor": 4
}
