{
 "cells": [
  {
   "cell_type": "code",
   "execution_count": 7,
   "metadata": {},
   "outputs": [
    {
     "name": "stdout",
     "output_type": "stream",
     "text": [
      "What is your name?Isebor\n",
      "What is your favourite anime??Naruto\n",
      "Isebor likes Naruto\n"
     ]
    }
   ],
   "source": [
    "Name= input (\"What is your name?\")\n",
    "Fav_anime= input(\"What is your favourite anime??\")\n",
    "print(Name+\" likes \"  + Fav_anime)"
   ]
  },
  {
   "cell_type": "code",
   "execution_count": 14,
   "metadata": {},
   "outputs": [
    {
     "name": "stdout",
     "output_type": "stream",
     "text": [
      "Input birth year2000\n",
      "21\n"
     ]
    }
   ],
   "source": [
    "bday = input(\"Input birth year\")\n",
    "age = 2021- int(bday)\n",
    "print(age)"
   ]
  },
  {
   "cell_type": "code",
   "execution_count": 17,
   "metadata": {},
   "outputs": [
    {
     "name": "stdout",
     "output_type": "stream",
     "text": [
      "input weight in lbs:3\n",
      "1.35\n"
     ]
    }
   ],
   "source": [
    "weight_in_lbs = int(input(\"input weight in lbs:\"))\n",
    "weight_in_kilos = weight_in_lbs * float(0.45)\n",
    "\n",
    "print (weight_in_kilos)"
   ]
  },
  {
   "cell_type": "code",
   "execution_count": null,
   "metadata": {},
   "outputs": [],
   "source": []
  }
 ],
 "metadata": {
  "kernelspec": {
   "display_name": "Python 3",
   "language": "python",
   "name": "python3"
  },
  "language_info": {
   "codemirror_mode": {
    "name": "ipython",
    "version": 3
   },
   "file_extension": ".py",
   "mimetype": "text/x-python",
   "name": "python",
   "nbconvert_exporter": "python",
   "pygments_lexer": "ipython3",
   "version": "3.8.5"
  }
 },
 "nbformat": 4,
 "nbformat_minor": 4
}
