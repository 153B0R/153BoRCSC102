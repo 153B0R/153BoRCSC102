{
 "cells": [
  {
   "cell_type": "code",
   "execution_count": 8,
   "metadata": {},
   "outputs": [
    {
     "name": "stdout",
     "output_type": "stream",
     "text": [
      "Naruto is the strongest of the big three\n"
     ]
    }
   ],
   "source": [
    "a = ['Naruto', 'Ichigo', 'Luffy']\n",
    "b = [1,22,3333]\n",
    "c = []\n",
    "print (a[0], 'is the strongest of the big three')"
   ]
  },
  {
   "cell_type": "code",
   "execution_count": 15,
   "metadata": {},
   "outputs": [
    {
     "name": "stdout",
     "output_type": "stream",
     "text": [
      "[1, 22]\n"
     ]
    }
   ],
   "source": [
    "a = ['Naruto', 'Ichigo', 'Luffy']\n",
    "b = [1,22,3333]\n",
    "c = []\n",
    "print (b[0:2])"
   ]
  },
  {
   "cell_type": "code",
   "execution_count": 19,
   "metadata": {},
   "outputs": [
    {
     "name": "stdout",
     "output_type": "stream",
     "text": [
      "Naruto lost 3333 times before he became that OP\n"
     ]
    }
   ],
   "source": [
    "a = ['Naruto', 'Ichigo', 'Luffy']\n",
    "b = [1,22,3333]\n",
    "c = []\n",
    "print ('Naruto lost', b [2] ,'times before he became that OP')"
   ]
  },
  {
   "cell_type": "code",
   "execution_count": null,
   "metadata": {},
   "outputs": [],
   "source": []
  }
 ],
 "metadata": {
  "kernelspec": {
   "display_name": "Python 3",
   "language": "python",
   "name": "python3"
  },
  "language_info": {
   "codemirror_mode": {
    "name": "ipython",
    "version": 3
   },
   "file_extension": ".py",
   "mimetype": "text/x-python",
   "name": "python",
   "nbconvert_exporter": "python",
   "pygments_lexer": "ipython3",
   "version": "3.8.5"
  }
 },
 "nbformat": 4,
 "nbformat_minor": 4
}
